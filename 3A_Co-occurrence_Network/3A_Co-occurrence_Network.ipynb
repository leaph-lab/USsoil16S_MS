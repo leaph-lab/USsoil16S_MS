{
 "cells": [
  {
   "cell_type": "code",
   "execution_count": 1,
   "id": "a0d83ac8-05b5-4992-9c51-69d8ed9f1224",
   "metadata": {},
   "outputs": [],
   "source": [
    "# need to create a Python environment to install R and R studio using conda. Activate the environment and then open this Jupyter notebook.\n",
    "import pandas as pd\n",
    "import subprocess\n",
    "import matplotlib.pyplot as plt\n",
    "import seaborn as sns\n",
    "import statistics\n",
    "import numpy as np\n",
    "import math\n",
    "import os"
   ]
  },
  {
   "cell_type": "markdown",
   "id": "fcae6651-561f-4690-9f05-af0aa262ad8f",
   "metadata": {},
   "source": [
    "## Input data prep"
   ]
  },
  {
   "cell_type": "markdown",
   "id": "09b44047-66f2-47ab-8614-79c627fa4167",
   "metadata": {},
   "source": [
    "### Populating color matrix"
   ]
  },
  {
   "cell_type": "code",
   "execution_count": 11,
   "id": "e670a62d-df2c-40f5-86db-e27dcb84b58e",
   "metadata": {},
   "outputs": [],
   "source": [
    "# color code by phyla\n",
    "otu_taxon = pd.read_csv(\"input/OTU_taxon.csv\")\n",
    "otu_network_color = otu_taxon.drop([\"OTUs\", \"Class\", \"Order\", \"Family\", \"Genus\", \"Species\"], axis=1)\n",
    "otu_network_color[\"id\"] = otu_network_color.index\n",
    "otu_network_color = otu_network_color[['id', 'Phylum']]\n",
    "otu_network_color[\"id\"] += 1\n",
    "otu_network_color.to_excel(\"input/otu_network_color_phyla.xlsx\", index=False)"
   ]
  },
  {
   "cell_type": "code",
   "execution_count": 12,
   "id": "1d2864ea",
   "metadata": {},
   "outputs": [],
   "source": [
    "# color code by abundance\n",
    "otu_network_color = pd.read_csv(\"input/abun_rare.csv\")\n",
    "otu_network_color[\"id\"] = otu_network_color.index\n",
    "otu_network_color = otu_network_color[['id', 'Ecotype']]\n",
    "otu_network_color[\"id\"] += 1\n",
    "otu_network_color.to_excel(\"input/otu_network_color_abundance.xlsx\", index=False)"
   ]
  },
  {
   "cell_type": "code",
   "execution_count": 13,
   "id": "efda3ebf",
   "metadata": {},
   "outputs": [],
   "source": [
    "# color code by niche breadth\n",
    "otu_network_color = pd.read_csv(\"input/gen_spe.csv\")\n",
    "otu_network_color[\"id\"] = otu_network_color.index\n",
    "otu_network_color = otu_network_color[['id', 'Ecotype']]\n",
    "otu_network_color[\"id\"] += 1\n",
    "otu_network_color.to_excel(\"input/otu_network_color_breadth.xlsx\", index=False)"
   ]
  },
  {
   "cell_type": "markdown",
   "id": "99850bb5-a26b-4ba0-8d21-aa7a60e142e5",
   "metadata": {},
   "source": [
    "### Processing all OTUs"
   ]
  },
  {
   "cell_type": "code",
   "execution_count": 52,
   "id": "61d99f4e",
   "metadata": {},
   "outputs": [],
   "source": [
    "otu_relative = pd.read_csv(\"input/OTU_rar_relative%.csv\", index_col=0)\n",
    "otu_relative = otu_relative.transpose()\n",
    "# Save the transposed DataFrame to a new CSV, without the index as the first column\n",
    "otu_relative.to_csv(\"input/transposed_OTU_rar_relative.csv\", index=True)"
   ]
  },
  {
   "cell_type": "markdown",
   "id": "b7e3cbfc",
   "metadata": {},
   "source": [
    "### Processing a subset of OTUs for testing"
   ]
  },
  {
   "cell_type": "code",
   "execution_count": 16,
   "id": "6303ca5c-7d31-43ff-86a4-14c360881dc8",
   "metadata": {},
   "outputs": [],
   "source": [
    "# creating subset of data for testing\n",
    "transposed_OTU_rar_relative = pd.read_csv(\"input/transposed_OTU_rar_relative.csv\")\n",
    "subset = transposed_OTU_rar_relative.iloc[:100, :100]\n",
    "subset.to_csv(\"input/subset_transposed_OTU_rar_relative.csv\", index=False)\n",
    "\n",
    "# Populating color matrix for testing\n",
    "otu_network_color = pd.read_excel(\"input/otu_network_color_phyla.xlsx\")\n",
    "otu_network_color_subset = otu_network_color.iloc[:99,:]\n",
    "otu_network_color_subset.to_excel(\"input/subset_otu_network_color.xlsx\", index=False)"
   ]
  },
  {
   "cell_type": "markdown",
   "id": "69795a0a-1614-4309-aa09-950fc37e1ac3",
   "metadata": {},
   "source": [
    "## OTU network metric function"
   ]
  },
  {
   "cell_type": "code",
   "execution_count": 46,
   "id": "04090bca-ab0b-4dae-a631-ea6ecb6082ae",
   "metadata": {},
   "outputs": [],
   "source": [
    "def network_metrics(result, network_color_file):\n",
    "    network_color_list = network_color_file[\"id\"].tolist()\n",
    "\n",
    "    lines = result.split('\\n')\n",
    "    edge_density = float(lines[0][len('[1] '):])\n",
    "\n",
    "    degree = {}\n",
    "    closeness = {}\n",
    "    betweenness = {}\n",
    "    current_stage = ''\n",
    "    lines = lines[1:]\n",
    "    a = iter(lines)\n",
    "    for line1, line2 in zip(a, a):\n",
    "        if 'degree' in line1 or 'closeness' in line1 or 'betweenness' in line1:\n",
    "            current_stage = line1.strip()  # Also stripping possible whitespace\n",
    "            continue\n",
    "        keys = line1.split()\n",
    "        vals = line2.split()\n",
    "        for k, v in zip(keys, vals):\n",
    "            if 'degree' in current_stage:\n",
    "                degree[k] = int(v)\n",
    "            elif 'closeness' in current_stage:\n",
    "                closeness[k] = float(v)\n",
    "            elif 'betweenness' in current_stage:\n",
    "                betweenness[k] = float(v)\n",
    "\n",
    "    # Convert keys to 'OTU' format after sorting them numerically\n",
    "    all_keys = sorted(set(degree.keys()).union(closeness.keys(), betweenness.keys()), key=int)\n",
    "    all_keys = [\"OTU\" + k for k in all_keys]  # Add 'OTU' prefix after sorting\n",
    "\n",
    "    df_data = {\n",
    "        'id': network_color_list,\n",
    "        'degree': [degree.get(k[3:], 0) for k in all_keys],  # Strip 'OTU' before accessing the value\n",
    "        'closeness': [closeness.get(k[3:], 0) for k in all_keys],  # Strip 'OTU' before accessing the value\n",
    "        'betweenness': [betweenness.get(k[3:], 0) for k in all_keys]  # Strip 'OTU' before accessing the value\n",
    "    }\n",
    "    df = pd.DataFrame(df_data)\n",
    "    return edge_density, df"
   ]
  },
  {
   "cell_type": "markdown",
   "id": "a8c820e4-975a-453d-96cb-9e5928f46757",
   "metadata": {},
   "source": [
    "### Subset for testing"
   ]
  },
  {
   "cell_type": "code",
   "execution_count": 4,
   "id": "56003a5e-0696-4721-a2b0-6a6ec6e654b5",
   "metadata": {},
   "outputs": [],
   "source": [
    "subset_otu_network_color = \"input/subset_otu_network_color.xlsx\"\n",
    "subset_otu_network_color_df = pd.read_excel(\"input/subset_otu_network_color.xlsx\")\n",
    "subset_otu_rar_relative = \"input/subset_transposed_OTU_rar_relative.csv\""
   ]
  },
  {
   "cell_type": "code",
   "execution_count": 44,
   "id": "6bc62a5e-f6cc-48dd-81e3-7ab9d1d81bbb",
   "metadata": {},
   "outputs": [],
   "source": [
    "# Generate network metrics\n",
    "subset_otu_network_metrics = subprocess.check_output(['Rscript', 'SpiecEasi_stage_python_phyla.R', subset_otu_rar_relative, subset_otu_network_color],\n",
    "                                 universal_newlines=True, stderr=subprocess.DEVNULL)"
   ]
  },
  {
   "cell_type": "code",
   "execution_count": 47,
   "id": "259d2664-c3f2-4141-9afd-e4dd4b54d872",
   "metadata": {},
   "outputs": [
    {
     "name": "stdout",
     "output_type": "stream",
     "text": [
      "Edge_density:  0.01752216\n"
     ]
    }
   ],
   "source": [
    "edge_density, df = network_metrics(subset_otu_network_metrics, subset_otu_network_color_df)\n",
    "print(\"Edge_density: \", edge_density)"
   ]
  },
  {
   "cell_type": "code",
   "execution_count": 17,
   "id": "04034649-284c-47b4-b730-10f8bbe0b01b",
   "metadata": {},
   "outputs": [
    {
     "data": {
      "text/plain": [
       "'null device \\n          1 \\n'"
      ]
     },
     "execution_count": 17,
     "metadata": {},
     "output_type": "execute_result"
    }
   ],
   "source": [
    "# Plot network\n",
    "subprocess.check_output(['Rscript', 'SpiecEasi_stage_network_phyla.R',\n",
    "                         subset_otu_rar_relative, subset_otu_network_color,\n",
    "                         'output/network_SpiecEasi_subset.pdf','output/edge_weight_subset.csv'], universal_newlines=True, stderr=subprocess.DEVNULL)"
   ]
  },
  {
   "cell_type": "markdown",
   "id": "1b35ad02-f313-4879-87b4-969273b59772",
   "metadata": {},
   "source": [
    "### All OTUs"
   ]
  },
  {
   "cell_type": "code",
   "execution_count": 24,
   "id": "c1735670-8461-402f-8089-e51f525fcb23",
   "metadata": {},
   "outputs": [],
   "source": [
    "otu_network_color_phyla = \"input/otu_network_color_phyla.xlsx\"\n",
    "otu_network_color_abundance = \"input/otu_network_color_abundance.xlsx\"\n",
    "otu_network_color_breadth= \"input/otu_network_color_breadth.xlsx\"\n",
    "\n",
    "otu_network_color_df = pd.read_excel(\"input/otu_network_color_phyla.xlsx\")\n",
    "\n",
    "otu_rar_relative = \"input/transposed_OTU_rar_relative.csv\""
   ]
  },
  {
   "cell_type": "code",
   "execution_count": 60,
   "id": "02361ee3",
   "metadata": {},
   "outputs": [],
   "source": [
    "# Generate network metrics\n",
    "otu_network_metrics = subprocess.check_output(['Rscript', 'SpiecEasi_stage_python_phyla.R', otu_rar_relative, otu_network_color],\n",
    "                                 universal_newlines=True, stderr=subprocess.DEVNULL)"
   ]
  },
  {
   "cell_type": "code",
   "execution_count": 61,
   "id": "912a66e1-130b-41d1-a75a-912e5f84d3d5",
   "metadata": {},
   "outputs": [
    {
     "name": "stdout",
     "output_type": "stream",
     "text": [
      "Edge_density:  0.01666492\n"
     ]
    }
   ],
   "source": [
    "edge_density, df = network_metrics(otu_network_metrics, otu_network_color_df)\n",
    "print(\"Edge_density: \", edge_density)"
   ]
  },
  {
   "cell_type": "code",
   "execution_count": 68,
   "id": "f2ad01ad",
   "metadata": {},
   "outputs": [],
   "source": [
    "edge_density_df = pd.DataFrame(data={'edge density': [edge_density]})\n",
    "edge_density_df.to_csv(\"output/edge_density_all_OTUs.csv\", index=False)"
   ]
  },
  {
   "cell_type": "code",
   "execution_count": 69,
   "id": "70813db9",
   "metadata": {},
   "outputs": [],
   "source": [
    "df.to_csv(\"output/network_metrics_all_OTUs.csv\", index = False)"
   ]
  },
  {
   "cell_type": "code",
   "execution_count": 19,
   "id": "d96f98dc",
   "metadata": {},
   "outputs": [
    {
     "data": {
      "text/plain": [
       "'null device \\n          1 \\n'"
      ]
     },
     "execution_count": 19,
     "metadata": {},
     "output_type": "execute_result"
    }
   ],
   "source": [
    "# Plot network color code by phyla\n",
    "\n",
    "subprocess.check_output(['Rscript', 'SpiecEasi_stage_network_phyla.R',\n",
    "                         otu_rar_relative, otu_network_color_phyla,\n",
    "                         'output/network_SpiecEasi_all_OTUs_phyla.pdf','output/edge_weight_all_OTUs.csv'], universal_newlines=True, stderr=subprocess.DEVNULL)"
   ]
  },
  {
   "cell_type": "code",
   "execution_count": 21,
   "id": "88b1fda5",
   "metadata": {},
   "outputs": [
    {
     "data": {
      "text/plain": [
       "'null device \\n          1 \\n'"
      ]
     },
     "execution_count": 21,
     "metadata": {},
     "output_type": "execute_result"
    }
   ],
   "source": [
    "# Plot network color code by abundance\n",
    "\n",
    "subprocess.check_output(['Rscript', 'SpiecEasi_stage_network_ecotypes.R',\n",
    "                         otu_rar_relative, otu_network_color_abundance,\n",
    "                         'output/network_SpiecEasi_all_OTUs_abundance.pdf','output/edge_weight_all_OTUs.csv'], universal_newlines=True, stderr=subprocess.DEVNULL)"
   ]
  },
  {
   "cell_type": "code",
   "execution_count": 25,
   "id": "baed967e",
   "metadata": {},
   "outputs": [
    {
     "data": {
      "text/plain": [
       "'null device \\n          1 \\n'"
      ]
     },
     "execution_count": 25,
     "metadata": {},
     "output_type": "execute_result"
    }
   ],
   "source": [
    "# Plot network color code by niche breadth\n",
    "\n",
    "subprocess.check_output(['Rscript', 'SpiecEasi_stage_network_ecotypes.R',\n",
    "                         otu_rar_relative, otu_network_color_breadth,\n",
    "                         'output/network_SpiecEasi_all_OTUs_breadth.pdf','output/edge_weight_all_OTUs.csv'], universal_newlines=True, stderr=subprocess.DEVNULL)"
   ]
  },
  {
   "cell_type": "markdown",
   "id": "a58b15bd",
   "metadata": {},
   "source": [
    "### Filtering OUTs to improve network visualization if needed\n",
    "Since the network plot is cluttered. Reducing the number of OTU for analysis by the following two step process. 1. Drop OTUs which are present in X% of samples 2. Drop OTUs which have spearman correlation less than y with all other OTUs"
   ]
  },
  {
   "cell_type": "code",
   "execution_count": 8,
   "id": "05e71ae8",
   "metadata": {},
   "outputs": [
    {
     "name": "stdout",
     "output_type": "stream",
     "text": [
      "Fol threshold:  30 , the number of cols to be dropped is  1974\n",
      "Fol tolerance:  0 , the number of cols to be dropped is  405\n"
     ]
    }
   ],
   "source": [
    "# df = pd.read_csv('input/transposed_OTU_rar_relative.csv', index_col=0)\n",
    "\n",
    "# df.replace(0, np.nan, inplace=True)\n",
    "\n",
    "# # Step 1\n",
    "# threshold = math.floor(0.05*618) #\n",
    "# columns_to_drop_1 = []\n",
    "# for col in df.columns:\n",
    "#     # Count non-zero entries (NaN values are automatically not counted)\n",
    "#     non_zero_count = df[col].count()\n",
    "\n",
    "#     # If the count of non-zero entries is less than the threshold, mark the column for dropping\n",
    "#     if non_zero_count < threshold:\n",
    "#         columns_to_drop_1.append(col)\n",
    "# print(\"Fol threshold: \", threshold,\", the number of cols to be dropped is \", len(columns_to_drop_1))\n",
    "\n",
    "\n",
    "# df = pd.read_csv('input/transposed_OTU_rar_relative.csv', index_col=0)\n",
    "# df = df.drop(columns=columns_to_drop_1)\n",
    "\n",
    "# # Step 2\n",
    "# correlation_matrix = df.corr(method='spearman')\n",
    "\n",
    "# threshold = 0.4\n",
    "# tolerance_list = [0] #number of allowable high correlations\n",
    "\n",
    "# for tolerance in tolerance_list:\n",
    "#     columns_to_drop_2 = []\n",
    "#     for col in correlation_matrix.columns:\n",
    "#         high_corr_count = (correlation_matrix[col].drop(col).abs() > threshold).sum()\n",
    "#         if high_corr_count <= tolerance:\n",
    "#             columns_to_drop_2.append(col)\n",
    "\n",
    "#     print(\"Fol tolerance: \", tolerance,\", the number of cols to be dropped is \", len(columns_to_drop_2))\n",
    "\n",
    "# df = df.drop(columns=columns_to_drop_2)\n",
    "# df.to_csv(\"input/less_than_5_and_4_OTU_data.csv\")"
   ]
  },
  {
   "cell_type": "code",
   "execution_count": 9,
   "id": "c8ee41a3",
   "metadata": {},
   "outputs": [],
   "source": [
    "# # dropping the same OTU from the color csv file\n",
    "# columns_to_drop = columns_to_drop_1 + columns_to_drop_2\n",
    "# ids_to_drop = [int(col[4:]) for col in columns_to_drop]\n",
    "# otu_network_color = pd.read_excel(\"input/otu_network_color_phyla.xlsx\")\n",
    "# df_color_filtered = otu_network_color[~otu_network_color['id'].isin(ids_to_drop)]\n",
    "# df_color_filtered.to_excel(\"input/less_than_5_and_4_otu_network_color.xlsx\", index=False)"
   ]
  },
  {
   "cell_type": "code",
   "execution_count": 10,
   "id": "a185962b-8882-4ee1-8fa2-a4e20a54f412",
   "metadata": {},
   "outputs": [],
   "source": [
    "# # load input files for network construction\n",
    "# filtered_otu_network_color = \"input/less_than_5_and_4_otu_network_color.xlsx\"\n",
    "# filtered_otu_rar_relative = \"input/less_than_5_and_4_OTU_data.csv\""
   ]
  },
  {
   "cell_type": "code",
   "execution_count": 13,
   "id": "d35dbe02-c4f6-4115-98a3-c737cca1d70c",
   "metadata": {},
   "outputs": [
    {
     "data": {
      "text/plain": [
       "'null device \\n          1 \\n'"
      ]
     },
     "execution_count": 13,
     "metadata": {},
     "output_type": "execute_result"
    }
   ],
   "source": [
    "# # Plot network\n",
    "\n",
    "# subprocess.check_output(['Rscript', 'SpiecEasi_stage_network_phyla.R',\n",
    "#                          filtered_otu_rar_relative, filtered_otu_network_color,\n",
    "#                          'output/network_SpiecEasi_filtered_OTUs.pdf','output/edge_weight_filtered_OTUs.csv'], universal_newlines=True, stderr=subprocess.DEVNULL)"
   ]
  },
  {
   "cell_type": "markdown",
   "id": "840f93fb",
   "metadata": {},
   "source": [
    "## Network for ecosystems"
   ]
  },
  {
   "cell_type": "code",
   "execution_count": 49,
   "id": "26137723",
   "metadata": {},
   "outputs": [],
   "source": [
    "ecosystem = pd.read_csv(\"input/ecosystem_modified.csv\")"
   ]
  },
  {
   "cell_type": "code",
   "execution_count": 50,
   "id": "b427e329",
   "metadata": {},
   "outputs": [],
   "source": [
    "transposed_OTU_rar_relative = pd.read_csv(\"input/transposed_OTU_rar_relative.csv\")"
   ]
  },
  {
   "cell_type": "code",
   "execution_count": 51,
   "id": "f9164eff",
   "metadata": {},
   "outputs": [],
   "source": [
    "# merging to get Ecosystem class for all samples\n",
    "merged_data = pd.merge(ecosystem, transposed_OTU_rar_relative, left_on=\"Sample ID \", right_on=\"Unnamed: 0\")"
   ]
  },
  {
   "cell_type": "code",
   "execution_count": 52,
   "id": "a781419a",
   "metadata": {},
   "outputs": [],
   "source": [
    "# Create separate dataframes for each ecosystem class\n",
    "ecosystem_classes = merged_data['Ecosystem_recode'].unique()\n",
    "ecosystems_dfs = {ecosystem: merged_data[merged_data['Ecosystem_recode'] == ecosystem].drop(columns=['Ecosystem_recode', 'Sample ID ']) for ecosystem in ecosystem_classes}"
   ]
  },
  {
   "cell_type": "code",
   "execution_count": 53,
   "id": "3e7fb2d5",
   "metadata": {},
   "outputs": [
    {
     "name": "stdout",
     "output_type": "stream",
     "text": [
      "Initial Sample Counts: {'ForestWoodland': 298, 'Barren': 26, 'Wetland': 56, 'Unknown': 29, 'Shrubland': 44, 'Herbaceous': 134, 'SteppeSavanna': 31}\n"
     ]
    }
   ],
   "source": [
    "# Show initial sample counts for each class\n",
    "initial_counts = {ecosystem: len(df) for ecosystem, df in ecosystems_dfs.items()}\n",
    "print(\"Initial Sample Counts:\", initial_counts)"
   ]
  },
  {
   "cell_type": "code",
   "execution_count": 54,
   "id": "1c9b5d60",
   "metadata": {},
   "outputs": [
    {
     "data": {
      "text/plain": [
       "26"
      ]
     },
     "execution_count": 54,
     "metadata": {},
     "output_type": "execute_result"
    }
   ],
   "source": [
    "# Find minimum sample count across all dataframes\n",
    "min_sample_count = min(initial_counts.values())\n",
    "min_sample_count"
   ]
  },
  {
   "cell_type": "code",
   "execution_count": 55,
   "id": "20ca5210",
   "metadata": {},
   "outputs": [],
   "source": [
    "# Randomly drop samples to make counts equal to min count among ecosystem classes.\n",
    "equalized_dfs = {}\n",
    "for ecosystem, df in ecosystems_dfs.items():\n",
    "    if len(df) > min_sample_count:\n",
    "        equalized_dfs[ecosystem] = df.sample(n=min_sample_count, random_state=42)\n",
    "    else:\n",
    "        equalized_dfs[ecosystem] = df"
   ]
  },
  {
   "cell_type": "code",
   "execution_count": 56,
   "id": "a79edca4",
   "metadata": {},
   "outputs": [],
   "source": [
    "# Remove OTUs with zero presence in all samples for each DataFrame\n",
    "final_dfs = {}\n",
    "final_otu_counts = {}\n",
    "for ecosystem, df in equalized_dfs.items():\n",
    "    df = df.loc[:, (df != 0).any(axis=0)]\n",
    "    final_dfs[ecosystem] = df\n",
    "    final_otu_counts[ecosystem] = df.shape[1]"
   ]
  },
  {
   "cell_type": "code",
   "execution_count": 57,
   "id": "aae2236f",
   "metadata": {},
   "outputs": [
    {
     "name": "stdout",
     "output_type": "stream",
     "text": [
      "Final Sample Counts: {'ForestWoodland': 26, 'Barren': 26, 'Wetland': 26, 'Unknown': 26, 'Shrubland': 26, 'Herbaceous': 26, 'SteppeSavanna': 26}\n",
      "Final OTU Counts: {'ForestWoodland': 1825, 'Barren': 1948, 'Wetland': 1962, 'Unknown': 1936, 'Shrubland': 1378, 'Herbaceous': 1685, 'SteppeSavanna': 1784}\n"
     ]
    }
   ],
   "source": [
    "# Display final DataFrame structures and sample counts\n",
    "final_counts = {ecosystem: len(df) for ecosystem, df in final_dfs.items()}\n",
    "print(\"Final Sample Counts:\", final_counts)\n",
    "print(\"Final OTU Counts:\", final_otu_counts)"
   ]
  },
  {
   "cell_type": "code",
   "execution_count": 58,
   "id": "3ff860c3",
   "metadata": {},
   "outputs": [
    {
     "name": "stdout",
     "output_type": "stream",
     "text": [
      "OTU Presence with non zero Counts:\n",
      "ForestWoodland: {'0 count': 1825, '1 count': 1068, '2 count': 769, '3 count': 593, '4 count': 484, '5 count': 403}\n",
      "Barren: {'0 count': 1948, '1 count': 1162, '2 count': 754, '3 count': 563, '4 count': 425, '5 count': 322}\n",
      "Wetland: {'0 count': 1962, '1 count': 1190, '2 count': 808, '3 count': 599, '4 count': 453, '5 count': 348}\n",
      "Unknown: {'0 count': 1936, '1 count': 1155, '2 count': 824, '3 count': 615, '4 count': 487, '5 count': 396}\n",
      "Shrubland: {'0 count': 1378, '1 count': 915, '2 count': 656, '3 count': 498, '4 count': 398, '5 count': 320}\n",
      "Herbaceous: {'0 count': 1685, '1 count': 1044, '2 count': 716, '3 count': 545, '4 count': 438, '5 count': 387}\n",
      "SteppeSavanna: {'0 count': 1784, '1 count': 1059, '2 count': 737, '3 count': 551, '4 count': 452, '5 count': 367}\n"
     ]
    }
   ],
   "source": [
    "# Since the number of OTUs after removing the OTUs with zero presence in all samples is still high\n",
    "# Remove OTUs whihc are present in less than or equal to threshold number of samples\n",
    "final_dfs = {}\n",
    "otu_presence_counts = {}\n",
    "thresholds = [0, 1, 2, 3, 4, 5]\n",
    "for ecosystem, df in equalized_dfs.items():\n",
    "    df = df.loc[:, (df != 0).any(axis=0)]\n",
    "    final_dfs[ecosystem] = df\n",
    "    num_samples = len(df)\n",
    "    otu_presence_counts[ecosystem] = {}\n",
    "    for threshold in thresholds:\n",
    "        count = (df != 0).sum(axis=0) > threshold\n",
    "        otu_presence_counts[ecosystem][f\"{int(threshold)} count\"] = count.sum()\n",
    "\n",
    "# Display final DataFrame structures and OTU presence counts\n",
    "print(\"OTU Presence with non zero Counts:\")\n",
    "for ecosystem, counts in otu_presence_counts.items():\n",
    "    print(f\"{ecosystem}: {counts}\")\n",
    "\n",
    "# The final counts indicate that a threshold value of 3 gives a manageable OTU count."
   ]
  },
  {
   "cell_type": "code",
   "execution_count": 59,
   "id": "dbdbf65c",
   "metadata": {},
   "outputs": [
    {
     "name": "stdout",
     "output_type": "stream",
     "text": [
      "OTU Presence with non-zero counts above the threshold of 1:\n",
      "ForestWoodland: 1068\n",
      "Barren: 1162\n",
      "Wetland: 1190\n",
      "Shrubland: 915\n",
      "Herbaceous: 1044\n",
      "SteppeSavanna: 1059\n"
     ]
    }
   ],
   "source": [
    "final_dfs = {}\n",
    "otu_presence_counts = {}\n",
    "ecosystem_directories = []\n",
    "threshold = 1  # Set the threshold of interest\n",
    "for ecosystem, df in equalized_dfs.items():\n",
    "    if ecosystem == \"Unknown\":\n",
    "        continue\n",
    "    # Filter out OTUs with zero presence across all samples\n",
    "    df = df.loc[:, (df != 0).any(axis=0)]\n",
    "    final_dfs[ecosystem] = df\n",
    "\n",
    "    # Calculate the number of samples in which each OTU is present more than the threshold\n",
    "    presence_count = (df != 0).sum(axis=0) > threshold\n",
    "    otu_presence_counts[ecosystem] = presence_count.sum()\n",
    "\n",
    "    # Check if directory exists for the ecosystem, if not create it\n",
    "    directory = f'output/{ecosystem}/'\n",
    "    if not os.path.exists(directory):\n",
    "        os.makedirs(directory)\n",
    "    ecosystem_directories.append(directory)\n",
    "    # Save the filtered DataFrame to a CSV file in the newly created or existing directory\n",
    "    filtered_df = df.loc[:, (df != 0).sum(axis=0) > threshold]\n",
    "    filtered_df.to_csv(f'{directory}filtered_otus.csv', index = False)\n",
    "\n",
    "# Display the count of OTUs that meet the criteria for the threshold\n",
    "print(\"OTU Presence with non-zero counts above the threshold of 1:\")\n",
    "for ecosystem, count in otu_presence_counts.items():\n",
    "    print(f\"{ecosystem}: {count}\")"
   ]
  },
  {
   "cell_type": "code",
   "execution_count": 60,
   "id": "44a51bff",
   "metadata": {},
   "outputs": [],
   "source": [
    "# fixing network color files\n",
    "for directory in ecosystem_directories:\n",
    "    otu_network_color = pd.read_excel(\"input/otu_network_color_phyla.xlsx\")\n",
    "\n",
    "    # Read the current filtered OTU file\n",
    "    df_otu = pd.read_csv(f\"{directory}filtered_otus.csv\")\n",
    "\n",
    "    # Get OTU IDs from column names\n",
    "    otus = df_otu.columns.tolist()[1:] # dropping the first because it is col name for Sample id; not an otu\n",
    "    otu_ids = [int(otu.split('_')[1]) for otu in otus]\n",
    "\n",
    "    # Filter the color data to keep only rows where the 'id' matches the OTUs in the current file\n",
    "    df_color_filtered = otu_network_color[otu_network_color['id'].isin(otu_ids)]\n",
    "\n",
    "    # Save the filtered color data to an Excel file\n",
    "    df_color_filtered.to_excel(f'{directory}filtered_network_color.xlsx', index=False)"
   ]
  },
  {
   "cell_type": "code",
   "execution_count": 61,
   "id": "aac25d8e",
   "metadata": {},
   "outputs": [
    {
     "name": "stdout",
     "output_type": "stream",
     "text": [
      "For the data in output/ForestWoodland/filtered_otus.csv file\n",
      "Edge_density:  0.02545933\n",
      "Degree, closeness, betweeness results are as follows: \n",
      "        id  degree  closeness  betweenness\n",
      "0        2      32   0.000004        993.0\n",
      "1        3      20   0.000004       1522.0\n",
      "2        5      11   0.000003        842.0\n",
      "3        7      34   0.000005       1525.0\n",
      "4       10      29   0.000004       1045.0\n",
      "...    ...     ...        ...          ...\n",
      "1062  3129      44   0.000004         59.0\n",
      "1063  3132      40   0.000005        760.0\n",
      "1064  3145      30   0.000004        832.0\n",
      "1065  3155      30   0.000004       2047.0\n",
      "1066  3158      48   0.000004        140.0\n",
      "\n",
      "[1067 rows x 4 columns]\n",
      "For the data in output/Barren/filtered_otus.csv file\n",
      "Edge_density:  0.02248211\n",
      "Degree, closeness, betweeness results are as follows: \n",
      "        id  degree  closeness  betweenness\n",
      "0        2      40   0.000004       1014.0\n",
      "1        3     108   0.000003          5.0\n",
      "2        5      17   0.000003        833.0\n",
      "3        6      34   0.000004       2120.0\n",
      "4        7      31   0.000004       2051.0\n",
      "...    ...     ...        ...          ...\n",
      "1156  3132      39   0.000004       1057.0\n",
      "1157  3135       9   0.000002        767.0\n",
      "1158  3136      29   0.000004       2124.0\n",
      "1159  3145      35   0.000004       1135.0\n",
      "1160  3147       6   0.000002      14533.0\n",
      "\n",
      "[1161 rows x 4 columns]\n",
      "For the data in output/Wetland/filtered_otus.csv file\n",
      "Edge_density:  0.02162924\n",
      "Degree, closeness, betweeness results are as follows: \n",
      "        id  degree  closeness  betweenness\n",
      "0        2      37   0.000003        870.0\n",
      "1        5      23   0.000003       1542.0\n",
      "2        7      27   0.000003        910.0\n",
      "3       10      12   0.000003       1691.0\n",
      "4       16      31   0.000003        458.0\n",
      "...    ...     ...        ...          ...\n",
      "1184  3136      19   0.000002        271.0\n",
      "1185  3140     120   0.000003          0.0\n",
      "1186  3145      29   0.000003       2611.0\n",
      "1187  3157      43   0.000003        923.0\n",
      "1188  3158      26   0.000003       1633.0\n",
      "\n",
      "[1189 rows x 4 columns]\n",
      "For the data in output/Shrubland/filtered_otus.csv file\n",
      "Edge_density:  0.0255368\n",
      "Degree, closeness, betweeness results are as follows: \n",
      "       id  degree     closeness  betweenness\n",
      "0       1      27  4.798701e-06       2054.0\n",
      "1       2      27  3.502051e-06       4776.0\n",
      "2       4       9  3.317702e-06        404.0\n",
      "3       7      31  4.134913e-06        319.0\n",
      "4      13      24  4.737927e-06       1700.0\n",
      "..    ...     ...           ...          ...\n",
      "909  3140      37  4.440504e-06        231.0\n",
      "910  3145      49  4.050725e-06        231.0\n",
      "911  3146       6  3.131276e-06        105.0\n",
      "912  3147      21  4.410687e-06        339.0\n",
      "913  3153       1  2.796903e-07          0.0\n",
      "\n",
      "[914 rows x 4 columns]\n",
      "For the data in output/Herbaceous/filtered_otus.csv file\n",
      "Edge_density:  0.0254084\n",
      "Degree, closeness, betweeness results are as follows: \n",
      "        id  degree  closeness  betweenness\n",
      "0        2      27   0.000004       1271.0\n",
      "1        6      41   0.000004        824.0\n",
      "2        7      35   0.000005       1895.0\n",
      "3       14      43   0.000004        950.0\n",
      "4       17      24   0.000004       1219.0\n",
      "...    ...     ...        ...          ...\n",
      "1038  3145      32   0.000004       1214.0\n",
      "1039  3147      15   0.000004        610.0\n",
      "1040  3149      31   0.000004       1151.0\n",
      "1041  3150      44   0.000005       1275.0\n",
      "1042  3158      25   0.000004        999.0\n",
      "\n",
      "[1043 rows x 4 columns]\n",
      "For the data in output/SteppeSavanna/filtered_otus.csv file\n",
      "Edge_density:  0.0257121\n",
      "Degree, closeness, betweeness results are as follows: \n",
      "        id  degree  closeness  betweenness\n",
      "0        2      47   0.000005        683.0\n",
      "1        4      20   0.000004       1324.0\n",
      "2        5       6   0.000002        294.0\n",
      "3        6      32   0.000004       1189.0\n",
      "4        7      37   0.000005        940.0\n",
      "...    ...     ...        ...          ...\n",
      "1053  3136      14   0.000004       1113.0\n",
      "1054  3137      14   0.000004        525.0\n",
      "1055  3141       9   0.000003         65.0\n",
      "1056  3145      27   0.000004        634.0\n",
      "1057  3158      37   0.000005       3897.0\n",
      "\n",
      "[1058 rows x 4 columns]\n"
     ]
    }
   ],
   "source": [
    "# this function will find the network metrics using SpiecEasi_stage_python.R fie. This function uses OS subprocess to call the R script. The R script must be in the same folder as this file\n",
    "for directory in ecosystem_directories:\n",
    "    input_csv_file_name = f'{directory}filtered_otus.csv'\n",
    "    color_file_name = f'{directory}filtered_network_color.xlsx'\n",
    "    pdf_file_name = f'{directory}network_SpiecEasi.pdf'\n",
    "    edge_weight_file_name = f'{directory}edge_weight.csv'\n",
    "\n",
    "    color_file = pd.read_excel(color_file_name)\n",
    "\n",
    "    result_tb_obs_otu_full = subprocess.check_output(['Rscript', 'SpiecEasi_stage_python_phyla.R', input_csv_file_name, color_file_name], universal_newlines=True, stderr=subprocess.DEVNULL)\n",
    "    edge_density, df = network_metrics(result_tb_obs_otu_full, color_file)\n",
    "    print(f\"For the data in {input_csv_file_name} file\")\n",
    "    print(\"Edge_density: \", edge_density)\n",
    "    print(\"Degree, closeness, betweeness results are as follows: \")\n",
    "    print(df)\n",
    "\n",
    "    edge_density_df = pd.DataFrame([edge_density], columns=[\"edge density\"])\n",
    "    df.to_csv(f'{directory}network_metrics.csv', index=False)\n",
    "    edge_density_df.to_csv(f'{directory}edge_density.csv', index = False)\n",
    "    subprocess.check_output(['Rscript', 'SpiecEasi_stage_network_phyla.R', input_csv_file_name, color_file_name, pdf_file_name, edge_weight_file_name], universal_newlines=True, stderr=subprocess.DEVNULL)"
   ]
  }
 ],
 "metadata": {
  "kernelspec": {
   "display_name": "r_env",
   "language": "python",
   "name": "python3"
  },
  "language_info": {
   "codemirror_mode": {
    "name": "ipython",
    "version": 3
   },
   "file_extension": ".py",
   "mimetype": "text/x-python",
   "name": "python",
   "nbconvert_exporter": "python",
   "pygments_lexer": "ipython3",
   "version": "3.12.3"
  }
 },
 "nbformat": 4,
 "nbformat_minor": 5
}
