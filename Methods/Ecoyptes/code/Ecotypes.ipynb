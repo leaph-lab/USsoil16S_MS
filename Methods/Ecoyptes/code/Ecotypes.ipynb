{
 "cells": [
  {
   "cell_type": "code",
   "execution_count": 1,
   "id": "rtrDtcC2Lwdw",
   "metadata": {
    "id": "rtrDtcC2Lwdw"
   },
   "outputs": [],
   "source": [
    "import pandas as pd\n",
    "import os\n",
    "import scipy.stats as st\n",
    "import numpy as np\n",
    "import statsmodels.stats.multitest as smt\n",
    "import seaborn as sns\n",
    "import matplotlib.pyplot as plt"
   ]
  },
  {
   "cell_type": "markdown",
   "id": "cc5e56c4",
   "metadata": {},
   "source": [
    "# OTU relative abundance"
   ]
  },
  {
   "cell_type": "code",
   "execution_count": 2,
   "id": "RcF91H-Zlk2r",
   "metadata": {
    "id": "RcF91H-Zlk2r"
   },
   "outputs": [],
   "source": [
    "#Calculate relative abundance of each OTU\n",
    "\n",
    "df_OTU = pd.read_csv(\"input/OTU_rarify.csv\") #read in rarified OTU table\n",
    "\n",
    "df_OTU_rel = df_OTU.copy()\n",
    "relabun_dict=dict(zip([sample for sample in df_OTU_rel.columns],[df_OTU_rel[sample].sum() for sample in df_OTU_rel.columns])) # create a dictionary of the form (columnName:sum_of_all_column_entries)\n",
    "relabun_dict.pop('#OTU ID')\n",
    "\n",
    "df_OTU_rel.loc[:,'AL-BN-1':'WY-YN-5']=df_OTU_rel.loc[:,'AL-BN-1':'WY-YN-5'].div(relabun_dict,axis=1) #divide each entry by their respecive column sums\n",
    "df_OTU_rel = df_OTU_rel.set_index('#OTU ID')\n",
    "df_OTU_rel.to_csv(\"Output/OTU_rarify_relabun.csv\")"
   ]
  },
  {
   "cell_type": "code",
   "execution_count": 4,
   "id": "a23afa22",
   "metadata": {},
   "outputs": [
    {
     "data": {
      "image/png": "[encoded data removed]",
      "text/plain": [
       "<Figure size 200x400 with 1 Axes>"
      ]
     },
     "metadata": {},
     "output_type": "display_data"
    }
   ],
   "source": [
    "# plot the distribution of mean relative abundance of OTUs\n",
    "\n",
    "relabun = df_OTU_rel.mean(axis=1)\n",
    "\n",
    "plt.rcParams['figure.figsize'] = [2, 4]\n",
    "ax = sns.boxplot(y = relabun, color='#7FB3D5')\n",
    "ax.set_yscale('log')\n",
    "plt.ylabel('Mean relative abundance', size=13)\n",
    "plt.title('OTUs', size=12)\n",
    "plt.savefig('output/OTU_mean_relabun.pdf', format='pdf', bbox_inches='tight', dpi=800)\n",
    "plt.show()"
   ]
  },
  {
   "cell_type": "markdown",
   "id": "d6a22506",
   "metadata": {},
   "source": [
    "# Classify abundant and rare taxa"
   ]
  },
  {
   "cell_type": "code",
   "execution_count": 49,
   "id": "FGneShvl5gdG",
   "metadata": {
    "colab": {
     "base_uri": "https://localhost:8080/"
    },
    "id": "FGneShvl5gdG",
    "outputId": "9af18fb6-cd13-41b3-f319-7734f146e220"
   },
   "outputs": [
    {
     "name": "stdout",
     "output_type": "stream",
     "text": [
      "Abundant:  201\n",
      "Rare:  870\n",
      "Neither:  2087\n"
     ]
    }
   ],
   "source": [
    "# OTUs with mean relative abundance > 0.001 are classified as abundant taxa\n",
    "# OTUs with mean relative abundance < 0.00002 are classified as rare taxa\n",
    "\n",
    "Abundant_Taxa = []\n",
    "Rare_Taxa = []\n",
    "Neither_Taxa = []\n",
    "\n",
    "for index, row in df_OTU_rel.iterrows():\n",
    "    meanrelabun = row.mean()\n",
    "    if meanrelabun > 0.001:\n",
    "        Abundant_Taxa.append(index)\n",
    "    elif meanrelabun <0.00002:\n",
    "        Rare_Taxa.append(index)\n",
    "    else:\n",
    "        Neither_Taxa.append(index)\n",
    "\n",
    "\n",
    "print(\"Abundant: \", len(Abundant_Taxa))\n",
    "print(\"Rare: \", len(Rare_Taxa))\n",
    "print(\"Neither: \", len(Neither_Taxa))"
   ]
  },
  {
   "cell_type": "code",
   "execution_count": 50,
   "id": "8188f86c",
   "metadata": {},
   "outputs": [],
   "source": [
    "# Save absolute and relative abundance for abundant and rare taxa\n",
    "\n",
    "df_OTU = pd.read_csv(\"input/OTU_rarify.csv\", index_col=0) #read in rarified OTU table\n",
    "\n",
    "df_abun_abs = df_OTU[df_OTU.index.isin(Abundant_Taxa)]\n",
    "df_abun_abs.to_csv(\"output/abun_abs.csv\")\n",
    "\n",
    "df_abun_relabun = df_OTU_rel[df_OTU_rel.index.isin(Abundant_Taxa)]\n",
    "df_abun_relabun.to_csv(\"output/abun_relabun.csv\")\n",
    "\n",
    "df_rare_abs = df_OTU[df_OTU.index.isin(Rare_Taxa)]\n",
    "df_rare_abs.to_csv(\"output/rare_abs.csv\")\n",
    "\n",
    "df_rare_relabun = df_OTU_rel[df_OTU_rel.index.isin(Rare_Taxa)]\n",
    "df_rare_relabun.to_csv(\"output/rare_relabun.csv\")"
   ]
  },
  {
   "cell_type": "markdown",
   "id": "4ffbb62b",
   "metadata": {},
   "source": [
    "## Verify classification of abundant and rare taxa using MULTICOLA"
   ]
  },
  {
   "cell_type": "code",
   "execution_count": 55,
   "id": "6ssg91imlp45",
   "metadata": {
    "id": "6ssg91imlp45"
   },
   "outputs": [],
   "source": [
    "df_OTU = pd.read_csv(\"input/OTU_rarify.csv\") #read in rarified OTU table\n",
    "df_taxon = pd.read_csv(\"input/OTU_taxon.csv\")\n",
    "\n",
    "# get taxanomy for each OTU\n",
    "df_multicola = pd.merge(df_OTU, df_taxon, how='inner', left_on='#OTU ID', right_on='OTUs')\n",
    "df_multicola=df_multicola.drop(columns=['OTUs'],axis=1)\n",
    "df_multicola=df_multicola.rename(columns={'#OTU ID':'OTUs'})\n",
    "df_multicola=df_multicola.set_index('OTUs')"
   ]
  },
  {
   "cell_type": "code",
   "execution_count": null,
   "id": "0717ede0",
   "metadata": {
    "id": "21251318"
   },
   "outputs": [],
   "source": [
    "# Cross-check the mean relative abundance cutoffs above with MultiCoLA script in R. See directory \"MultiCoLa\""
   ]
  },
  {
   "cell_type": "markdown",
   "id": "52a73466",
   "metadata": {},
   "source": [
    "# Classify generalists and specialists"
   ]
  },
  {
   "cell_type": "code",
   "execution_count": 60,
   "id": "-DUP_tJP4AO7",
   "metadata": {
    "colab": {
     "base_uri": "https://localhost:8080/"
    },
    "id": "-DUP_tJP4AO7",
    "outputId": "ef0d75f6-f53f-4092-bfac-dee8f8fd4803"
   },
   "outputs": [
    {
     "name": "stdout",
     "output_type": "stream",
     "text": [
      "156\n",
      "159\n"
     ]
    }
   ],
   "source": [
    "otu = pd.read_csv('input/OTU_rarify.csv', index_col=0)\n",
    "\n",
    "# calculate the proportion of OTUs in site i across all sites\n",
    "otu = otu.div(otu.sum(axis=1), axis=0)\n",
    "\n",
    "# calculate the Bn values\n",
    "bn_ob = 1/otu.pow(2).sum(axis=1)\n",
    "\n",
    "# shuffle dataframe rows for n times and calculate null Bn values for each OTU\n",
    "n = 1000\n",
    "\n",
    "bn_dic = {}\n",
    "for i in range(n):\n",
    "    rd = otu.sample(frac=1).reset_index(drop=True)\n",
    "    bn = 1/rd.pow(2).sum(axis=1)\n",
    "    bn_dic[i] = bn.values\n",
    "\n",
    "bn_df = pd.DataFrame.from_dict(bn_dic)\n",
    "bn_df.index = otu.index\n",
    "\n",
    "\n",
    "# calculate p values for OTU's Bn larger and smaller than expectation\n",
    "gen_pval = {}\n",
    "spe_pval = {}\n",
    "\n",
    "for idx, row in bn_df.iterrows():\n",
    "    OTU_bn = bn_ob.loc[[idx]].values\n",
    "    gen_pval[idx] = sum(i > OTU_bn[0] for i in list(row))/n\n",
    "    spe_pval[idx] = sum(i < OTU_bn[0] for i in list(row))/n\n",
    "\n",
    "# identify generalists and specialist\n",
    "gen = dict((k, v) for k, v in gen_pval.items() if v < 0.05)\n",
    "spe = dict((k, v) for k, v in spe_pval.items() if v < 0.05)\n",
    "\n",
    "print(len(gen))\n",
    "print(len(spe))"
   ]
  },
  {
   "cell_type": "code",
   "execution_count": 67,
   "id": "XyFrl6-pEpmp",
   "metadata": {
    "id": "XyFrl6-pEpmp"
   },
   "outputs": [],
   "source": [
    "# Save absolute and relative abundance for generalists and specialists\n",
    "\n",
    "df_OTU = pd.read_csv(\"input/OTU_rarify.csv\", index_col=0) #read in rarified OTU table\n",
    "\n",
    "df_gen_abs = df_OTU[df_OTU.index.isin(gen.keys())]\n",
    "df_gen_abs.to_csv(\"output/gen_abs.csv\")\n",
    "\n",
    "df_gen_relabun = df_OTU_rel[df_OTU_rel.index.isin(gen.keys())]\n",
    "df_gen_relabun.to_csv(\"output/gen_relabun.csv\")\n",
    "\n",
    "df_spe_abs = df_OTU[df_OTU.index.isin(spe.keys())]\n",
    "df_spe_abs.to_csv(\"output/spe_abs.csv\")\n",
    "\n",
    "df_spe_relabun = df_OTU_rel[df_OTU_rel.index.isin(spe.keys())]\n",
    "df_spe_relabun.to_csv(\"output/spe_relabun.csv\")"
   ]
  }
 ],
 "metadata": {
  "colab": {
   "provenance": []
  },
  "kernelspec": {
   "display_name": "Python 3 (ipykernel)",
   "language": "python",
   "name": "python3"
  },
  "language_info": {
   "codemirror_mode": {
    "name": "ipython",
    "version": 3
   },
   "file_extension": ".py",
   "mimetype": "text/x-python",
   "name": "python",
   "nbconvert_exporter": "python",
   "pygments_lexer": "ipython3",
   "version": "3.11.9"
  }
 },
 "nbformat": 4,
 "nbformat_minor": 5
}
