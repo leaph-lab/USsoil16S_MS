{
 "cells": [
  {
   "cell_type": "code",
   "execution_count": 3,
   "id": "d54cc99a",
   "metadata": {},
   "outputs": [],
   "source": [
    "import pandas as pd"
   ]
  },
  {
   "cell_type": "code",
   "execution_count": 17,
   "id": "6a017ba3",
   "metadata": {},
   "outputs": [],
   "source": [
    "def reformat_output(df):\n",
    "    df= df.drop(columns=[\"sig.index\"],axis=1) #drop \"sig.index\" column\n",
    "    df.columns = df.columns.str.replace(\"index.\", \"\", regex=True) #replace \"index.\" with \"\" in the column names\n",
    "    df.columns = df.columns.str.replace(\"\\.\", \"-\", regex=True) #replace dots with \"-\"\n",
    "    df.index = df.columns #set index using column names\n",
    "    return df"
   ]
  },
  {
   "cell_type": "code",
   "execution_count": 18,
   "id": "3555df42",
   "metadata": {},
   "outputs": [],
   "source": [
    "df_all=pd.read_csv(\"BNTI_output/BNTI_all_mod.csv\")\n",
    "df_all_refor = reformat_output(df_all)\n",
    "df_all_refor.to_csv('BNTI_output/BNTI_all.csv')"
   ]
  },
  {
   "cell_type": "code",
   "execution_count": 19,
   "id": "e21ba6b1",
   "metadata": {},
   "outputs": [],
   "source": [
    "df_abun=pd.read_csv(\"BNTI_output/BNTI_abun_mod.csv\")\n",
    "df_abun_refor = reformat_output(df_abun)\n",
    "df_abun_refor.to_csv('BNTI_output/BNTI_abun.csv')"
   ]
  },
  {
   "cell_type": "code",
   "execution_count": 20,
   "id": "d813f7c3",
   "metadata": {},
   "outputs": [],
   "source": [
    "df_rare=pd.read_csv(\"BNTI_output/BNTI_rare_mod.csv\")\n",
    "df_rare_refor = reformat_output(df_rare)\n",
    "df_rare_refor.to_csv('BNTI_output/BNTI_rare.csv')"
   ]
  },
  {
   "cell_type": "code",
   "execution_count": 21,
   "id": "c7ec0ee0",
   "metadata": {},
   "outputs": [],
   "source": [
    "df_gen=pd.read_csv(\"BNTI_output/BNTI_gen_mod.csv\")\n",
    "df_gen_refor = reformat_output(df_gen)\n",
    "df_gen_refor.to_csv('BNTI_output/BNTI_gen.csv')"
   ]
  },
  {
   "cell_type": "code",
   "execution_count": 22,
   "id": "5d42fad0",
   "metadata": {},
   "outputs": [],
   "source": [
    "df_spe=pd.read_csv(\"BNTI_output/BNTI_spe_mod.csv\")\n",
    "df_spe_refor = reformat_output(df_spe)\n",
    "df_spe_refor.to_csv('BNTI_output/BNTI_spe.csv')"
   ]
  }
 ],
 "metadata": {
  "kernelspec": {
   "display_name": "Python 3 (ipykernel)",
   "language": "python",
   "name": "python3"
  },
  "language_info": {
   "codemirror_mode": {
    "name": "ipython",
    "version": 3
   },
   "file_extension": ".py",
   "mimetype": "text/x-python",
   "name": "python",
   "nbconvert_exporter": "python",
   "pygments_lexer": "ipython3",
   "version": "3.11.6"
  }
 },
 "nbformat": 4,
 "nbformat_minor": 5
}
